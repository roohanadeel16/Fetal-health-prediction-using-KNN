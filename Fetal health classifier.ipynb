{
  "nbformat": 4,
  "nbformat_minor": 0,
  "metadata": {
    "colab": {
      "name": "Untitled2.ipynb",
      "provenance": []
    },
    "kernelspec": {
      "name": "python3",
      "display_name": "Python 3"
    },
    "language_info": {
      "name": "python"
    }
  },
  "cells": [
    {
      "cell_type": "code",
      "execution_count": null,
      "metadata": {
        "id": "Bf5MrKY1nMM0"
      },
      "outputs": [],
      "source": [
        "import numpy as np # linear algebra\n",
        "import pandas as pd # data processing, CSV file I/O (e.g. pd.read_csv)\n",
        "\n",
        "# Input data files are available in the read-only \"../input/\" directory\n",
        "# For example, running this (by clicking run or pressing Shift+Enter) will list all files under the input directory\n",
        "\n",
        "import os\n",
        "for dirname, _, filenames in os.walk('/kaggle/input'):\n",
        "    for filename in filenames:\n",
        "        print(os.path.join(dirname, filename))"
      ]
    },
    {
      "cell_type": "code",
      "source": [
        "import numpy as np;\n",
        "import pandas as pd;\n",
        "import matplotlib.pyplot as plt;\n",
        "import seaborn as sns;\n",
        "from sklearn.impute import SimpleImputer;\n",
        "from sklearn.compose import ColumnTransformer;\n",
        "from sklearn.pipeline import Pipeline;\n",
        "from sklearn.preprocessing import LabelEncoder;\n",
        "from sklearn.preprocessing import StandardScaler;\n",
        "from sklearn.preprocessing import MinMaxScaler;\n",
        "from sklearn.model_selection import train_test_split;\n",
        "from sklearn.linear_model import LinearRegression ;\n",
        "from sklearn.linear_model import Ridge, Lasso;\n",
        "from sklearn.metrics import mean_squared_error;\n",
        "from sklearn.metrics import r2_score;\n",
        "from sklearn.preprocessing import PolynomialFeatures;\n",
        "from sklearn.svm import SVR;\n",
        "from sklearn.svm import SVC;\n",
        "from sklearn.tree import DecisionTreeClassifier;\n",
        "from sklearn.ensemble import RandomForestClassifier;\n",
        "from sklearn.ensemble import RandomForestRegressor;\n",
        "from sklearn.neighbors import KNeighborsClassifier;\n",
        "from sklearn.naive_bayes import GaussianNB;\n",
        "import xgboost as xgb;\n",
        "from xgboost import XGBClassifier;\n",
        "from xgboost import XGBRegressor;\n",
        "\n",
        "import keras;\n",
        "from keras_preprocessing import image;\n",
        "from keras.preprocessing.image import ImageDataGenerator\n",
        "from keras.optimizers import Adam;\n",
        "from keras.callbacks import ModelCheckpoint;\n",
        "from keras.models import Sequential;\n",
        "from tensorflow.keras.applications import VGG16;\n",
        "from tensorflow.keras.applications import InceptionResNetV2;\n",
        "from keras.applications.vgg16 import preprocess_input;\n",
        "from tensorflow.keras.applications.vgg16 import decode_predictions;\n",
        "\n",
        "import os;\n",
        "from os import listdir;\n",
        "from PIL import Image as PImage;\n",
        "import cv2"
      ],
      "metadata": {
        "id": "rJQNX8bdnNgR"
      },
      "execution_count": null,
      "outputs": []
    },
    {
      "cell_type": "code",
      "source": [
        "data = pd.read_csv('../input/fetal-health-classification/fetal_health.csv')"
      ],
      "metadata": {
        "id": "9lLxgiM_nUEy"
      },
      "execution_count": null,
      "outputs": []
    },
    {
      "cell_type": "code",
      "source": [
        "data.columns"
      ],
      "metadata": {
        "id": "Cfo3IqztnXsj"
      },
      "execution_count": null,
      "outputs": []
    },
    {
      "cell_type": "code",
      "source": [
        "plt.figure(figsize = (25,25))\n",
        "sns.heatmap(data.corr(), annot = True)"
      ],
      "metadata": {
        "id": "3utrrDmInak7"
      },
      "execution_count": null,
      "outputs": []
    },
    {
      "cell_type": "code",
      "source": [
        "plt.figure(figsize = (25,25))\n",
        "x = data.drop(['fetal_health'], axis = 1) \n",
        "sns.barplot(x.columns,x.corrwith(data.fetal_health))"
      ],
      "metadata": {
        "id": "k88AZdRNnn7v"
      },
      "execution_count": null,
      "outputs": []
    },
    {
      "cell_type": "code",
      "source": [
        "x.drop(columns = ['fetal_movement','light_decelerations','histogram_width','histogram_min','histogram_max','histogram_number_of_peaks','histogram_number_of_zeroes'], axis = 1)\n",
        "#                                  "
      ],
      "metadata": {
        "id": "ohoaIRxsnrEo"
      },
      "execution_count": null,
      "outputs": []
    },
    {
      "cell_type": "code",
      "source": [
        "y = data['fetal_health']"
      ],
      "metadata": {
        "id": "lyV_NUtCnrQw"
      },
      "execution_count": null,
      "outputs": []
    },
    {
      "cell_type": "code",
      "source": [
        "x_train, x_test, y_train, y_test = train_test_split(x, y, test_size = 0.2, random_state = 51)"
      ],
      "metadata": {
        "id": "XaxaCyw2nypQ"
      },
      "execution_count": null,
      "outputs": []
    },
    {
      "cell_type": "code",
      "source": [
        "x_train.shape, y_train.shape"
      ],
      "metadata": {
        "id": "pr-OHIxPnz46"
      },
      "execution_count": null,
      "outputs": []
    },
    {
      "cell_type": "code",
      "source": [
        "x_train.columns"
      ],
      "metadata": {
        "id": "1kz3fswTn1Eo"
      },
      "execution_count": null,
      "outputs": []
    },
    {
      "cell_type": "code",
      "source": [
        "knn = KNeighborsClassifier();\n",
        "knn.fit(x_train, y_train)"
      ],
      "metadata": {
        "id": "1CNFwsOln6dV"
      },
      "execution_count": null,
      "outputs": []
    },
    {
      "cell_type": "code",
      "source": [
        "knn.score(x_test, y_test)"
      ],
      "metadata": {
        "id": "ham1JVdkn_ru"
      },
      "execution_count": null,
      "outputs": []
    }
  ]
}